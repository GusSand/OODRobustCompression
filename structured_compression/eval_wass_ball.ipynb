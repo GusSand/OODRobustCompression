{
 "cells": [
  {
   "cell_type": "code",
   "execution_count": 1,
   "id": "RoHktzGsUzgg",
   "metadata": {
    "executionInfo": {
     "elapsed": 2,
     "status": "ok",
     "timestamp": 1627069628307,
     "user": {
      "displayName": "Eric Lei",
      "photoUrl": "",
      "userId": "06350099369756553873"
     },
     "user_tz": 240
    },
    "id": "RoHktzGsUzgg"
   },
   "outputs": [],
   "source": [
    "%load_ext autoreload\n",
    "%autoreload 2"
   ]
  },
  {
   "cell_type": "code",
   "execution_count": 2,
   "id": "4a49be28",
   "metadata": {
    "executionInfo": {
     "elapsed": 6434,
     "status": "ok",
     "timestamp": 1627069635454,
     "user": {
      "displayName": "Eric Lei",
      "photoUrl": "",
      "userId": "06350099369756553873"
     },
     "user_tz": 240
    },
    "id": "4a49be28"
   },
   "outputs": [],
   "source": [
    "import torch\n",
    "import torch.nn as nn\n",
    "import torch.nn.functional as F\n",
    "import torchvision\n",
    "from torch.utils.data import Dataset, DataLoader\n",
    "import numpy as np\n",
    "import matplotlib.pyplot as plt\n",
    "from pytorchtools import CNN, GaussianNoise\n",
    "from adversarialbox.attacks import FGSMAttack, LinfPGDAttack_AE, WassDROAttack_AE, L2PGDAttack_AE\n",
    "from adversarialbox.train import adv_train, FGSM_train_rnd\n",
    "from adversarialbox.utils import to_var, pred_batch, test\n",
    "from layers_compress import Encoder, Generator, Quantizer, AutoencoderQ, StructuredCompressor, SingleEncMultiDec, SingleEncSingleDec\n",
    "import os\n",
    "from dro_tools import est_radius, est_radius_structured\n",
    "\n",
    "device = torch.device(\"cuda:0\" if torch.cuda.is_available() else \"cpu\")"
   ]
  },
  {
   "cell_type": "code",
   "execution_count": 3,
   "id": "626578dd",
   "metadata": {
    "executionInfo": {
     "elapsed": 7,
     "status": "ok",
     "timestamp": 1627069635458,
     "user": {
      "displayName": "Eric Lei",
      "photoUrl": "",
      "userId": "06350099369756553873"
     },
     "user_tz": 240
    },
    "id": "626578dd"
   },
   "outputs": [],
   "source": [
    "# matplotlib\n",
    "from cycler import cycler\n",
    "plt.rcParams['axes.prop_cycle'] = cycler(color='bgrcmyk')\n",
    "plt.rcParams.update({'font.size': 13})\n",
    "plt.rcParams.update({'lines.linewidth':1.2})\n",
    "plt.rcParams['legend.fancybox'] = False\n",
    "plt.rcParams['legend.framealpha'] = None\n",
    "plt.rcParams['legend.edgecolor'] = 'inherit'\n",
    "plt.rcParams['mathtext.fontset'] = 'cm'\n",
    "plt.rcParams['mathtext.rm'] = 'serif'\n",
    "plt.rcParams[\"font.family\"] = \"serif\"\n",
    "# plt.rcParams['mathtext.default'] = 'regular'"
   ]
  },
  {
   "cell_type": "code",
   "execution_count": 4,
   "id": "2b63d525",
   "metadata": {
    "executionInfo": {
     "elapsed": 2888,
     "status": "ok",
     "timestamp": 1627069638340,
     "user": {
      "displayName": "Eric Lei",
      "photoUrl": "",
      "userId": "06350099369756553873"
     },
     "user_tz": 240
    },
    "id": "2b63d525"
   },
   "outputs": [],
   "source": [
    "transform = torchvision.transforms.Compose([torchvision.transforms.Resize(32),\n",
    "                                            torchvision.transforms.ToTensor()])\n",
    "mnist_train = torchvision.datasets.MNIST('../data/', download=True, train=True, transform=transform)                                 \n",
    "mnist_test = torchvision.datasets.MNIST('../data/', download=True, train=False, transform=transform)\n",
    "\n",
    "train_loader = DataLoader(mnist_train, batch_size=5000, shuffle=False)\n",
    "test_loader = DataLoader(mnist_test, batch_size=1000, shuffle=False)\n",
    "\n",
    "# dset = torch.utils.data.random_split(train_loader.dataset, [5000, 55000])[0]\n",
    "# train_loader2 = torch.utils.data.DataLoader(dset, batch_size=1, shuffle=True)"
   ]
  },
  {
   "cell_type": "code",
   "execution_count": 5,
   "id": "84873e2e",
   "metadata": {
    "executionInfo": {
     "elapsed": 32,
     "status": "ok",
     "timestamp": 1627069638341,
     "user": {
      "displayName": "Eric Lei",
      "photoUrl": "",
      "userId": "06350099369756553873"
     },
     "user_tz": 240
    },
    "id": "84873e2e"
   },
   "outputs": [],
   "source": [
    "def adv_distortion(model, gamma, loader,  *args):\n",
    "    adversary = WassDROAttack_AE(model=model, k=15, a=1, gamma=gamma)\n",
    "    dist = 0\n",
    "    for data in loader:\n",
    "        data = data[0].to(device)\n",
    "        X_adv = adversary.perturb(data, None, *args)\n",
    "        dist += F.mse_loss(X_adv, model(X_adv, *args)).item()*32*32\n",
    "    return dist/len(loader)\n",
    "\n",
    "def eval_robust(model, gammas, loader, *args):\n",
    "    d = []\n",
    "    for i, gamma in enumerate(gammas):\n",
    "        d += [adv_distortion(model, gamma, loader,  *args)]\n",
    "    return d\n",
    "\n",
    "def center_distortion(model, loader, *args):\n",
    "    dist = 0\n",
    "    for data in loader:\n",
    "        data = data[0].to(device)\n",
    "        dist += F.mse_loss(data, model(data, *args)).item()*32*32\n",
    "    return dist/len(loader)\n",
    "\n",
    "def awgn_distortion(model, variance, loader, *args):\n",
    "    dist = 0\n",
    "    for data in loader:\n",
    "        data = data[0].to(device)\n",
    "        data_awgn = data + torch.randn(data.size(), device=device) * np.sqrt(variance)\n",
    "        data_awgn = torch.clip(data_awgn, 0, 1)\n",
    "        dist += F.mse_loss(data_awgn, model(data_awgn, *args)).item()*32*32\n",
    "    return dist/len(loader)\n",
    "\n",
    "def eval_awgn(model, variances, loader, *args):\n",
    "    d = []\n",
    "    for variance in variances:\n",
    "        d += [awgn_distortion(model, variance, loader, *args)]\n",
    "    return d\n"
   ]
  },
  {
   "cell_type": "markdown",
   "id": "bedb4302",
   "metadata": {
    "id": "bedb4302"
   },
   "source": [
    "# Worst-case-distortion vs wasserstein radius"
   ]
  },
  {
   "cell_type": "markdown",
   "id": "60b7aaf2",
   "metadata": {},
   "source": [
    "### Standard"
   ]
  },
  {
   "cell_type": "code",
   "execution_count": 6,
   "id": "5bae2e5a",
   "metadata": {
    "id": "5bae2e5a"
   },
   "outputs": [],
   "source": [
    "# load a model (for standard or wassDRO)\n",
    "d = 10\n",
    "L = 12\n",
    "saved = torch.load(f'../robust_compression/trained_standard/ae_c_d{d}L{L}.pt', map_location=device)\n",
    "model = AutoencoderQ(saved['netE'], saved['netG'], saved['netQ'])"
   ]
  },
  {
   "cell_type": "code",
   "execution_count": 7,
   "id": "e0530b0d",
   "metadata": {},
   "outputs": [
    {
     "name": "stdout",
     "output_type": "stream",
     "text": [
      "56.86123046875\n",
      "49.56004180908203\n",
      "43.102891540527345\n",
      "37.48565483093262\n",
      "32.42134685516358\n"
     ]
    }
   ],
   "source": [
    "# Estimate rhos\n",
    "gammas = np.linspace(1.33, 1.65, 5)\n",
    "rhos = np.zeros(len(gammas))\n",
    "for i, gamma in enumerate(gammas):\n",
    "    rhos[i] = est_radius(model, gamma, test_loader)\n",
    "    # rhos[i] = est_radius_structured(model, gamma, test_loader, 1) # for structured\n",
    "    print(rhos[i])"
   ]
  },
  {
   "cell_type": "code",
   "execution_count": 8,
   "id": "2cf8101b",
   "metadata": {},
   "outputs": [],
   "source": [
    "# Compute worst-case distortion\n",
    "wcd = eval_robust(model, gammas, test_loader)"
   ]
  },
  {
   "cell_type": "code",
   "execution_count": 9,
   "id": "f1066a5f",
   "metadata": {},
   "outputs": [
    {
     "data": {
      "text/plain": [
       "Text(0, 0.5, 'Distortion')"
      ]
     },
     "execution_count": 9,
     "metadata": {},
     "output_type": "execute_result"
    },
    {
     "data": {
      "image/png": "[encoded data removed]",
      "text/plain": [
       "<Figure size 640x480 with 1 Axes>"
      ]
     },
     "metadata": {},
     "output_type": "display_data"
    }
   ],
   "source": [
    "plt.plot(rhos, wcd)\n",
    "plt.xlabel(r'$\\rho$')\n",
    "plt.ylabel('Distortion')"
   ]
  },
  {
   "cell_type": "markdown",
   "id": "6c8d9bf4",
   "metadata": {},
   "source": [
    "### Structured"
   ]
  },
  {
   "cell_type": "code",
   "execution_count": 10,
   "id": "fe0241fb",
   "metadata": {
    "id": "fe0241fb"
   },
   "outputs": [],
   "source": [
    "# load a model (for structured)\n",
    "gamma = 0.36\n",
    "d_pair = (3,7)\n",
    "saved = torch.load(f'trained_structured_wass_ball/ae_c_d{d_pair[0]}-{d_pair[1]}L{L}gamma{gamma:.2f}.pt', map_location=device)\n",
    "\n",
    "# saved = torch.load(f'trained_single_single/ae_c_d{d_pair[0]}-{d_pair[1]}L{L}gamma{gamma:.2f}.pt', map_location=device)\n",
    "# saved = torch.load(f'trained_idea3_annealed/ae_c_d{d_pair[0]}-{d_pair[1]}L{L}rho{rho}.pt', map_location=device)\n",
    "model = SingleEncMultiDec(saved['netE'], saved['netQ'], saved['dec_list'], saved['dim_list'])"
   ]
  },
  {
   "cell_type": "code",
   "execution_count": 11,
   "id": "f3f2fd0d",
   "metadata": {
    "colab": {
     "base_uri": "https://localhost:8080/"
    },
    "executionInfo": {
     "elapsed": 522529,
     "status": "ok",
     "timestamp": 1626125157427,
     "user": {
      "displayName": "Eric Lei",
      "photoUrl": "",
      "userId": "04808908106696983834"
     },
     "user_tz": 240
    },
    "id": "f3f2fd0d",
    "outputId": "222e337a-e36e-496f-fb75-810f6071553c"
   },
   "outputs": [
    {
     "name": "stdout",
     "output_type": "stream",
     "text": [
      "84.0743392944336\n",
      "72.37801818847656\n",
      "60.869842529296875\n",
      "50.05714302062988\n",
      "41.13138313293457\n"
     ]
    }
   ],
   "source": [
    "# Estimate rhos\n",
    "gammas = np.linspace(0.25, 0.6, 5) # extended rho 50\n",
    "# gammas = np.linspace(0.42, 0.65, 5) # extended rho 20 DRO\n",
    "rhos = np.zeros(len(gammas))\n",
    "for i, gamma in enumerate(gammas):\n",
    "    rhos[i] = est_radius_structured(model, gamma, test_loader, 1) # for structured\n",
    "    print(rhos[i])"
   ]
  },
  {
   "cell_type": "code",
   "execution_count": 12,
   "id": "60ec80e3",
   "metadata": {},
   "outputs": [],
   "source": [
    "# Compute worst-case distortion\n",
    "wcd = eval_robust(model, gammas, test_loader, 1)"
   ]
  },
  {
   "cell_type": "code",
   "execution_count": 13,
   "id": "ab81ed88",
   "metadata": {},
   "outputs": [
    {
     "data": {
      "text/plain": [
       "Text(0, 0.5, 'Distortion')"
      ]
     },
     "execution_count": 13,
     "metadata": {},
     "output_type": "execute_result"
    },
    {
     "data": {
      "image/png": "[encoded data removed]",
      "text/plain": [
       "<Figure size 640x480 with 1 Axes>"
      ]
     },
     "metadata": {},
     "output_type": "display_data"
    }
   ],
   "source": [
    "plt.plot(rhos, wcd)\n",
    "plt.xlabel(r'$\\rho$')\n",
    "plt.ylabel('Distortion')"
   ]
  }
 ],
 "metadata": {
  "accelerator": "GPU",
  "colab": {
   "collapsed_sections": [],
   "name": "results_ITR3_ICML21_final_submission.ipynb",
   "provenance": []
  },
  "kernelspec": {
   "display_name": "Python 3 (ipykernel)",
   "language": "python",
   "name": "python3"
  },
  "language_info": {
   "codemirror_mode": {
    "name": "ipython",
    "version": 3
   },
   "file_extension": ".py",
   "mimetype": "text/x-python",
   "name": "python",
   "nbconvert_exporter": "python",
   "pygments_lexer": "ipython3",
   "version": "3.8.10"
  }
 },
 "nbformat": 4,
 "nbformat_minor": 5
}
