{
 "cells": [
  {
   "cell_type": "code",
   "execution_count": 1,
   "id": "interesting-timber",
   "metadata": {},
   "outputs": [],
   "source": [
    "import torch\n",
    "import torch.nn as nn\n",
    "import torch.nn.functional as F\n",
    "import torchvision\n",
    "from torch.utils.data import Dataset, DataLoader\n",
    "import numpy as np\n",
    "import matplotlib.pyplot as plt\n",
    "from pytorchtools import CNN, GaussianNoise\n",
    "from adversarialbox.attacks import FGSMAttack, LinfPGDAttack_AE, WassDROAttack_AE, L2PGDAttack_AE\n",
    "from adversarialbox.train import adv_train, FGSM_train_rnd\n",
    "from adversarialbox.utils import to_var, pred_batch, test\n",
    "from layers_compress import Encoder, Generator, Quantizer, AutoencoderQ\n",
    "import os\n",
    "\n",
    "device = torch.device(\"cuda:0\" if torch.cuda.is_available() else \"cpu\")"
   ]
  },
  {
   "cell_type": "code",
   "execution_count": 2,
   "id": "017e38bc",
   "metadata": {},
   "outputs": [
    {
     "name": "stdout",
     "output_type": "stream",
     "text": [
      "cuda:0\n"
     ]
    }
   ],
   "source": [
    "print(device)"
   ]
  },
  {
   "cell_type": "code",
   "execution_count": 3,
   "id": "clear-highway",
   "metadata": {},
   "outputs": [],
   "source": [
    "transform = torchvision.transforms.Compose([torchvision.transforms.Resize(32),\n",
    "                                            torchvision.transforms.ToTensor()])\n",
    "mnist_train = torchvision.datasets.MNIST('../data/', download=True, train=True, transform=transform)                                 \n",
    "mnist_test = torchvision.datasets.MNIST('../data/', download=True, train=False, transform=transform)\n",
    "\n",
    "train_loader = DataLoader(mnist_train, batch_size=10000, shuffle=True)\n",
    "test_loader = DataLoader(mnist_test, batch_size=2500, shuffle=True)"
   ]
  },
  {
   "cell_type": "code",
   "execution_count": 4,
   "id": "generic-flower",
   "metadata": {},
   "outputs": [],
   "source": [
    "\n",
    "def adv_distortion(model, eps, data):\n",
    "    adversary = L2PGDAttack_AE(model=model, epsilon=eps, k=15, loss_fn=torch.nn.MSELoss())\n",
    "    X_adv = adversary.perturb(data, None)\n",
    "    return F.mse_loss(X_adv, model(X_adv)).item()*32*32\n",
    "\n",
    "def eval_robust(model, epsilons, data):\n",
    "    d = []\n",
    "    for eps in epsilons:\n",
    "        d += [adv_distortion(model, eps, torch.from_numpy(data).to(device))]\n",
    "    return d\n",
    "\n",
    "def awgn_distortion(model, variance, data):\n",
    "    data_awgn = data + torch.randn(data.size(), device=device) * np.sqrt(variance)\n",
    "    data_awgn = torch.clip(data_awgn, 0, 1)\n",
    "    return F.mse_loss(data_awgn, model(data_awgn)).item()*32*32\n",
    "\n",
    "def eval_awgn(model, variances, data):\n",
    "    d = []\n",
    "    for variance in variances:\n",
    "        d += [awgn_distortion(model, variance, torch.from_numpy(data).to(device))]\n",
    "    return d\n"
   ]
  },
  {
   "cell_type": "code",
   "execution_count": 5,
   "id": "daily-absence",
   "metadata": {},
   "outputs": [],
   "source": [
    "data_orig = np.array([mnist_test[i][0].numpy() for i in range(len(mnist_test))])"
   ]
  },
  {
   "cell_type": "code",
   "execution_count": 6,
   "id": "weighted-listening",
   "metadata": {},
   "outputs": [],
   "source": [
    "noise_std = np.linspace(0., 0.25, 6)\n",
    "epsilons = np.linspace(0, 10, 6)\n",
    "L = 6"
   ]
  },
  {
   "cell_type": "code",
   "execution_count": 7,
   "id": "published-providence",
   "metadata": {},
   "outputs": [],
   "source": [
    "#saved = torch.load(f'trained_no_robust/ae_c_d4L{L}.pt')\n",
    "saved = torch.load(f'trained_standard/ae_c_d10L{L}.pt')\n",
    "\n",
    "model = AutoencoderQ(saved['netE'], saved['netG'], saved['netQ'], saved['netEntropy'])\n",
    "d = eval_robust(model, epsilons, data_orig)\n",
    "d_awgn = eval_awgn(model, noise_std**2, data_orig)"
   ]
  },
  {
   "cell_type": "code",
   "execution_count": 8,
   "id": "neural-walter",
   "metadata": {},
   "outputs": [
    {
     "ename": "FileNotFoundError",
     "evalue": "[Errno 2] No such file or directory: 'trained_robust_L2PGD/ae_c_d4L6.pt'",
     "output_type": "error",
     "traceback": [
      "\u001b[0;31m---------------------------------------------------------------------------\u001b[0m",
      "\u001b[0;31mFileNotFoundError\u001b[0m                         Traceback (most recent call last)",
      "Cell \u001b[0;32mIn[8], line 1\u001b[0m\n\u001b[0;32m----> 1\u001b[0m saved \u001b[38;5;241m=\u001b[39m \u001b[43mtorch\u001b[49m\u001b[38;5;241;43m.\u001b[39;49m\u001b[43mload\u001b[49m\u001b[43m(\u001b[49m\u001b[38;5;124;43mf\u001b[39;49m\u001b[38;5;124;43m'\u001b[39;49m\u001b[38;5;124;43mtrained_robust_L2PGD/ae_c_d4L\u001b[39;49m\u001b[38;5;132;43;01m{\u001b[39;49;00m\u001b[43mL\u001b[49m\u001b[38;5;132;43;01m}\u001b[39;49;00m\u001b[38;5;124;43m.pt\u001b[39;49m\u001b[38;5;124;43m'\u001b[39;49m\u001b[43m)\u001b[49m\n\u001b[1;32m      2\u001b[0m model \u001b[38;5;241m=\u001b[39m AutoencoderQ(saved[\u001b[38;5;124m'\u001b[39m\u001b[38;5;124mnetE\u001b[39m\u001b[38;5;124m'\u001b[39m], saved[\u001b[38;5;124m'\u001b[39m\u001b[38;5;124mnetG\u001b[39m\u001b[38;5;124m'\u001b[39m], saved[\u001b[38;5;124m'\u001b[39m\u001b[38;5;124mnetQ\u001b[39m\u001b[38;5;124m'\u001b[39m])\n\u001b[1;32m      3\u001b[0m d_L2 \u001b[38;5;241m=\u001b[39m eval_robust(model, epsilons, data_orig)\n",
      "File \u001b[0;32m~/cudatorch/lib/python3.8/site-packages/torch/serialization.py:791\u001b[0m, in \u001b[0;36mload\u001b[0;34m(f, map_location, pickle_module, weights_only, **pickle_load_args)\u001b[0m\n\u001b[1;32m    788\u001b[0m \u001b[38;5;28;01mif\u001b[39;00m \u001b[38;5;124m'\u001b[39m\u001b[38;5;124mencoding\u001b[39m\u001b[38;5;124m'\u001b[39m \u001b[38;5;129;01mnot\u001b[39;00m \u001b[38;5;129;01min\u001b[39;00m pickle_load_args\u001b[38;5;241m.\u001b[39mkeys():\n\u001b[1;32m    789\u001b[0m     pickle_load_args[\u001b[38;5;124m'\u001b[39m\u001b[38;5;124mencoding\u001b[39m\u001b[38;5;124m'\u001b[39m] \u001b[38;5;241m=\u001b[39m \u001b[38;5;124m'\u001b[39m\u001b[38;5;124mutf-8\u001b[39m\u001b[38;5;124m'\u001b[39m\n\u001b[0;32m--> 791\u001b[0m \u001b[38;5;28;01mwith\u001b[39;00m \u001b[43m_open_file_like\u001b[49m\u001b[43m(\u001b[49m\u001b[43mf\u001b[49m\u001b[43m,\u001b[49m\u001b[43m \u001b[49m\u001b[38;5;124;43m'\u001b[39;49m\u001b[38;5;124;43mrb\u001b[39;49m\u001b[38;5;124;43m'\u001b[39;49m\u001b[43m)\u001b[49m \u001b[38;5;28;01mas\u001b[39;00m opened_file:\n\u001b[1;32m    792\u001b[0m     \u001b[38;5;28;01mif\u001b[39;00m _is_zipfile(opened_file):\n\u001b[1;32m    793\u001b[0m         \u001b[38;5;66;03m# The zipfile reader is going to advance the current file position.\u001b[39;00m\n\u001b[1;32m    794\u001b[0m         \u001b[38;5;66;03m# If we want to actually tail call to torch.jit.load, we need to\u001b[39;00m\n\u001b[1;32m    795\u001b[0m         \u001b[38;5;66;03m# reset back to the original position.\u001b[39;00m\n\u001b[1;32m    796\u001b[0m         orig_position \u001b[38;5;241m=\u001b[39m opened_file\u001b[38;5;241m.\u001b[39mtell()\n",
      "File \u001b[0;32m~/cudatorch/lib/python3.8/site-packages/torch/serialization.py:271\u001b[0m, in \u001b[0;36m_open_file_like\u001b[0;34m(name_or_buffer, mode)\u001b[0m\n\u001b[1;32m    269\u001b[0m \u001b[38;5;28;01mdef\u001b[39;00m \u001b[38;5;21m_open_file_like\u001b[39m(name_or_buffer, mode):\n\u001b[1;32m    270\u001b[0m     \u001b[38;5;28;01mif\u001b[39;00m _is_path(name_or_buffer):\n\u001b[0;32m--> 271\u001b[0m         \u001b[38;5;28;01mreturn\u001b[39;00m \u001b[43m_open_file\u001b[49m\u001b[43m(\u001b[49m\u001b[43mname_or_buffer\u001b[49m\u001b[43m,\u001b[49m\u001b[43m \u001b[49m\u001b[43mmode\u001b[49m\u001b[43m)\u001b[49m\n\u001b[1;32m    272\u001b[0m     \u001b[38;5;28;01melse\u001b[39;00m:\n\u001b[1;32m    273\u001b[0m         \u001b[38;5;28;01mif\u001b[39;00m \u001b[38;5;124m'\u001b[39m\u001b[38;5;124mw\u001b[39m\u001b[38;5;124m'\u001b[39m \u001b[38;5;129;01min\u001b[39;00m mode:\n",
      "File \u001b[0;32m~/cudatorch/lib/python3.8/site-packages/torch/serialization.py:252\u001b[0m, in \u001b[0;36m_open_file.__init__\u001b[0;34m(self, name, mode)\u001b[0m\n\u001b[1;32m    251\u001b[0m \u001b[38;5;28;01mdef\u001b[39;00m \u001b[38;5;21m__init__\u001b[39m(\u001b[38;5;28mself\u001b[39m, name, mode):\n\u001b[0;32m--> 252\u001b[0m     \u001b[38;5;28msuper\u001b[39m()\u001b[38;5;241m.\u001b[39m\u001b[38;5;21m__init__\u001b[39m(\u001b[38;5;28;43mopen\u001b[39;49m\u001b[43m(\u001b[49m\u001b[43mname\u001b[49m\u001b[43m,\u001b[49m\u001b[43m \u001b[49m\u001b[43mmode\u001b[49m\u001b[43m)\u001b[49m)\n",
      "\u001b[0;31mFileNotFoundError\u001b[0m: [Errno 2] No such file or directory: 'trained_robust_L2PGD/ae_c_d4L6.pt'"
     ]
    }
   ],
   "source": [
    "saved = torch.load(f'trained_robust_L2PGD/ae_c_d4L{L}.pt')\n",
    "model = AutoencoderQ(saved['netE'], saved['netG'], saved['netQ'])\n",
    "d_L2 = eval_robust(model, epsilons, data_orig)\n",
    "d_awgn_L2 = eval_awgn(model, noise_std**2, data_orig)"
   ]
  },
  {
   "cell_type": "code",
   "execution_count": null,
   "id": "exclusive-beatles",
   "metadata": {},
   "outputs": [],
   "source": [
    "saved = torch.load(f'trained_robust_WassDRO/ae_c_d4L{L}.pt')\n",
    "model = AutoencoderQ(saved['netE'], saved['netG'], saved['netQ'])\n",
    "# d_WassDRO = eval_robust(model, epsilons, data_orig)\n",
    "d_awgn_WassDRO = eval_awgn(model, noise_std**2, data_orig)"
   ]
  },
  {
   "cell_type": "code",
   "execution_count": null,
   "id": "exempt-swing",
   "metadata": {},
   "outputs": [],
   "source": [
    "plt.figure()\n",
    "plt.plot(epsilons, d, '-*')\n",
    "plt.plot(epsilons, d_L2, '-*')\n",
    "plt.plot(epsilons, d_WassDRO, '-*')\n",
    "plt.legend(['Standard', r'$\\ell_2$ PGD ($\\epsilon=4.15$)', r'$\\ell_2$ Wass DRO'])\n",
    "plt.xlabel(r\"$\\epsilon$ (radius of $\\ell_2$ perturbation)\")\n",
    "plt.ylabel(r\"$|| X-\\hat{X} ||_2^2$\")\n",
    "plt.grid(linestyle='--')\n",
    "plt.title(f'Distortion vs. $\\ell_2$ adversary (R={4*np.log2(L):.2f} bits per image)')\n",
    "# plt.show()\n",
    "# plt.savefig('plots/r20_l2adv.pdf')"
   ]
  },
  {
   "cell_type": "markdown",
   "id": "answering-madagascar",
   "metadata": {},
   "source": [
    "$ X \\sim \\mathbb{P}_D$\n",
    "\n",
    "$X+g \\sim \\mathbb{P}_D \\star \\mathcal{N}(0, \\sigma^2 I)$\n",
    "\n",
    "$W_2(\\mathbb{P}_D \\star \\mathcal{N}(0, \\sigma^2 I), \\mathbb{P}_D) = \\inf_{\\pi\\in \\Pi(\\mathbb{P}_D \\star \\mathcal{N}(0, \\sigma^2 I), \\mathbb{P}_D)} \\mathbb{E}_\\pi[\\|g\\|_2^2]^{1/2} \\stackrel{?}{=} \\sigma \\sqrt{n}$"
   ]
  },
  {
   "cell_type": "code",
   "execution_count": null,
   "id": "loaded-daily",
   "metadata": {},
   "outputs": [],
   "source": [
    "d_awgn_opt = []\n",
    "for i, fname in enumerate(sorted(os.listdir('trained_optimal_gaussian'))):\n",
    "    print(fname)\n",
    "    saved = torch.load('trained_optimal_gaussian/' + fname)\n",
    "    model = AutoencoderQ(saved['netE'], saved['netG'], saved['netQ'])\n",
    "    d_awgn_opt += [awgn_distortion(model, noise_std[i]**2, torch.from_numpy(data_orig).to(device))]"
   ]
  },
  {
   "cell_type": "code",
   "execution_count": null,
   "id": "organic-bulgaria",
   "metadata": {},
   "outputs": [],
   "source": [
    "plt.rcParams.update({'font.size': 14})\n",
    "plt.figure()\n",
    "plt.plot(noise_std, d_awgn, '-*')\n",
    "# plt.plot(noise_std, d_awgn_L2, '-*')\n",
    "plt.plot(noise_std, d_awgn_WassDRO, '-*')\n",
    "# plt.plot(noise_std, d_awgn_opt, '--*')\n",
    "# plt.plot(noise_std, cert, '--*')\n",
    "# plt.legend([r'$\\mathbb{P}_D$-optimal code', r'$\\ell_2$ PGD ($\\epsilon=4.15$)', r'$\\ell_2$ Wass DRO', r'$\\mathbb{P}_D \\star \\mathcal{N}(0, \\sigma^2 I)$-optimal code'])\n",
    "plt.legend([r'$\\mathbb{P}_D$-trained', r'$\\ell_2$ Wass DRO'])\n",
    "plt.xlabel(r\"$\\sigma$ (noise std. dev.)\", )\n",
    "plt.ylabel(r\"$\\mathbb{E}[|| X-\\hat{X} ||_2^2]$\")\n",
    "plt.grid(linestyle='--')\n",
    "# plt.title(f'Distortion vs. AWGN Noise (R={4*np.log2(L):.2f} bits per image)')\n",
    "# plt.show()\n",
    "plt.savefig('plots/r14_awgn_clean.pdf')"
   ]
  },
  {
   "cell_type": "markdown",
   "id": "isolated-chambers",
   "metadata": {},
   "source": [
    "__Calculate Wasserstein Radius and Worst-case Certificate__"
   ]
  },
  {
   "cell_type": "code",
   "execution_count": null,
   "id": "framed-employment",
   "metadata": {},
   "outputs": [],
   "source": [
    "file = torch.load('wcd_cert/wcd_cert_gamma500.pt')\n",
    "wcd = file['wcd']\n",
    "cert = file['cert']"
   ]
  },
  {
   "cell_type": "code",
   "execution_count": null,
   "id": "italian-canvas",
   "metadata": {},
   "outputs": [],
   "source": [
    "wcd = np.array(wcd)\n",
    "cert = np.array(cert)"
   ]
  },
  {
   "cell_type": "code",
   "execution_count": null,
   "id": "engaging-factor",
   "metadata": {},
   "outputs": [],
   "source": [
    "E = cert[0]\n",
    "E"
   ]
  },
  {
   "cell_type": "code",
   "execution_count": null,
   "id": "operating-format",
   "metadata": {},
   "outputs": [],
   "source": [
    "plt.figure()\n",
    "# plt.plot(np.linspace(0., 18, 19), cert, '-')\n",
    "plt.plot(wcd[:,0], wcd[:,1])\n",
    "plt.xlabel(r\"$\\rho$\")\n",
    "plt.ylabel(r\"$|| X-\\hat{X} ||_2^2$\")\n",
    "plt.vlines(4.644, ymin=19, ymax=30, ls='--', color='k')\n",
    "# plt.xlim([0, 18]) \n",
    "# plt.ylim([20, 29])\n",
    "plt.legend([r'$\\gamma\\rho+\\mathbb{E}_{x\\sim\\hat{P}_N}\\left[\\sup_\\tilde{x} \\left\\{d(\\tilde{x},\\Phi_\\theta(\\tilde{x}))-\\gamma || x-\\tilde{x} ||_2^2 \\right\\}\\right]$',\n",
    "           r'$\\sup_{P:W(P,\\hat{P}_N)<\\rho} \\mathbb{E}_P[d(X, \\Phi_\\theta(X))]$',\n",
    "           r'$\\hat{\\rho}_N(\\theta) = 17.195$ (trained radius using $\\gamma$)'])\n",
    "\n",
    "plt.grid(linestyle='--')\n",
    "plt.title(f'Worst-Case Dist. & Cert. (R={4*np.log2(L):.2f} bpi, ' + r'$\\gamma = 0.36$)')\n",
    "# plt.show()\n",
    "# plt.savefig('plots/wcd_cert.pdf')"
   ]
  },
  {
   "cell_type": "code",
   "execution_count": null,
   "id": "composed-railway",
   "metadata": {},
   "outputs": [],
   "source": [
    "rhos = np.linspace(0, 17, 18)\n",
    "noise_std = np.sqrt((1/1024)*rhos)\n",
    "saved = torch.load(f'trained_gamma_sweep/ae_c_d4L{L}gamma500.pt')\n",
    "model = AutoencoderQ(saved['netE'], saved['netG'], saved['netQ'])\n",
    "d_awgn_WassDRO = eval_awgn(model, noise_std**2, data_orig)"
   ]
  },
  {
   "cell_type": "code",
   "execution_count": null,
   "id": "tender-department",
   "metadata": {},
   "outputs": [],
   "source": [
    "plt.figure()\n",
    "# plt.plot(np.linspace(0., 18, 19), cert, '-')\n",
    "plt.plot(wcd[:,0], wcd[:,1])\n",
    "plt.plot(1024*noise_std**2, d_awgn_WassDRO, '-*')\n",
    "plt.xlabel(r\"$\\rho$\")\n",
    "plt.ylabel(r\"$|| X-\\hat{X} ||_2^2$\")\n",
    "plt.vlines(4.644, ymin=19, ymax=30, ls='--', color='k')\n",
    "# plt.xlim([0, 18]) \n",
    "# plt.ylim([20, 29])\n",
    "plt.legend([r'$\\sup_{P:W(P,\\hat{P}_N)<\\rho} \\mathbb{E}_P[d(X, \\Phi_\\theta(X))]$',\n",
    "           'WassDRO',\n",
    "           r'$\\hat{\\rho}_N(\\theta) = 4.644$ (trained radius using $\\gamma$)'])\n",
    "# plt.legend([r'$\\gamma\\rho+\\mathbb{E}_{x\\sim\\hat{P}_N}\\left[\\sup_\\tilde{x} \\left\\{d(\\tilde{x},\\Phi_\\theta(\\tilde{x}))-\\gamma || x-\\tilde{x} ||_2^2 \\right\\}\\right]$',\n",
    "#            r'$\\sup_{P:W(P,\\hat{P}_N)<\\rho} \\mathbb{E}_P[d(X, \\Phi_\\theta(X))]$',\n",
    "#            'WassDRO',\n",
    "#            r'$\\hat{\\rho}_N(\\theta) = 17.195$ (trained radius using $\\gamma$)'])\n",
    "\n",
    "plt.grid(linestyle='--')\n",
    "plt.title(f'Worst-Case Dist. & Cert. (R={4*np.log2(L):.2f} bpi, ' + r'$\\gamma = 0.36$)')"
   ]
  },
  {
   "cell_type": "code",
   "execution_count": null,
   "id": "flying-istanbul",
   "metadata": {},
   "outputs": [],
   "source": [
    "t = np.linspace(0., 50, 51)\n",
    "gammas = 20000*0.85**t\n",
    "gammas"
   ]
  },
  {
   "cell_type": "code",
   "execution_count": null,
   "id": "varying-actress",
   "metadata": {},
   "outputs": [],
   "source": [
    "# calc radius\n",
    "from dro_tools import est_radius\n",
    "gamma = 10\n",
    "saved = torch.load(f'trained_annealed/ae_c_d4L12rho5.pt')\n",
    "model = AutoencoderQ(saved['netE'], saved['netG'], saved['netQ'])"
   ]
  },
  {
   "cell_type": "code",
   "execution_count": null,
   "id": "acceptable-institute",
   "metadata": {},
   "outputs": [],
   "source": [
    "radius = est_radius(model, gamma, train_loader)\n",
    "radius"
   ]
  },
  {
   "cell_type": "code",
   "execution_count": null,
   "id": "purple-george",
   "metadata": {},
   "outputs": [],
   "source": [
    "test_loader = DataLoader(mnist_test, batch_size=200, shuffle=True)"
   ]
  },
  {
   "cell_type": "code",
   "execution_count": null,
   "id": "subsequent-array",
   "metadata": {},
   "outputs": [],
   "source": [
    "radius = est_radius(model, gamma, test_loader)\n",
    "radius"
   ]
  },
  {
   "cell_type": "code",
   "execution_count": null,
   "id": "eastern-aurora",
   "metadata": {},
   "outputs": [],
   "source": [
    "data = torch.from_numpy(data_orig)"
   ]
  },
  {
   "cell_type": "code",
   "execution_count": null,
   "id": "former-circus",
   "metadata": {},
   "outputs": [],
   "source": [
    "# calc wasserstein radius\n",
    "adversary = WassDROAttack_AE(model=model, a=1., gamma=10, k=30, loss_fn=nn.MSELoss(), transport_cost=nn.MSELoss())\n",
    "X_adv = adversary.perturb(data.to(device), None)"
   ]
  },
  {
   "cell_type": "code",
   "execution_count": null,
   "id": "toxic-chuck",
   "metadata": {},
   "outputs": [],
   "source": [
    "radius = F.mse_loss(X_adv, data.to(device)).item()*32*32"
   ]
  },
  {
   "cell_type": "code",
   "execution_count": null,
   "id": "smart-costs",
   "metadata": {},
   "outputs": [],
   "source": [
    "radius"
   ]
  },
  {
   "cell_type": "code",
   "execution_count": null,
   "id": "bound-relative",
   "metadata": {},
   "outputs": [],
   "source": [
    "#gamma vs. rho\n",
    "gammas = [1000, 500, 100, 20, 4, 0.36]\n",
    "rhos = [1.159, 4.644, 13.335, 16.383, 17.066, 17.195]\n",
    "\n",
    "plt.figure()\n",
    "plt.plot(gammas, rhos, '-*')\n",
    "plt.xlabel(r'$\\gamma$')\n",
    "plt.ylabel(r'$\\rho$')\n",
    "plt.grid(linestyle='--')\n",
    "plt.title(f'Gamma vs Rho (R={4*np.log2(L):.2f} bpi)')\n",
    "# plt.savefig('plots/gamma_vs_rho.pdf')"
   ]
  },
  {
   "cell_type": "code",
   "execution_count": null,
   "id": "incorrect-entertainment",
   "metadata": {},
   "outputs": [],
   "source": []
  }
 ],
 "metadata": {
  "kernelspec": {
   "display_name": "Python 3 (ipykernel)",
   "language": "python",
   "name": "python3"
  },
  "language_info": {
   "codemirror_mode": {
    "name": "ipython",
    "version": 3
   },
   "file_extension": ".py",
   "mimetype": "text/x-python",
   "name": "python",
   "nbconvert_exporter": "python",
   "pygments_lexer": "ipython3",
   "version": "3.8.10"
  }
 },
 "nbformat": 4,
 "nbformat_minor": 5
}
